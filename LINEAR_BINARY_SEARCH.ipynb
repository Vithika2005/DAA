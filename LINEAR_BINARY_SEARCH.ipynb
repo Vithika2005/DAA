{
 "cells": [
  {
   "cell_type": "code",
   "execution_count": null,
   "metadata": {},
   "outputs": [],
   "source": [
    "def linear_search(arr, target):\n",
    "    \"\"\"\n",
    "    Perform linear search to find the target in the array.\n",
    "    \n",
    "    :param arr: List of elements to search in\n",
    "    :param target: The element to search for\n",
    "    :return: Index of the target if found, otherwise -1\n",
    "    \"\"\"\n",
    "    for i in range(len(arr)):\n",
    "        if arr[i] == target:\n",
    "            return i  # Target found, return index\n",
    "    return -1  # Target not found\n"
   ]
  },
  {
   "cell_type": "code",
   "execution_count": 2,
   "metadata": {},
   "outputs": [
    {
     "name": "stdout",
     "output_type": "stream",
     "text": [
      "Linear Search: Element 5 found at index 4\n",
      "Binary Search: Element 5 found at index 5\n"
     ]
    }
   ],
   "source": [
    "# Define Linear Search\n",
    "def linear_search(arr, target):\n",
    "    \"\"\"\n",
    "    Perform linear search to find the target in the array.\n",
    "    \"\"\"\n",
    "    for i in range(len(arr)):\n",
    "        if arr[i] == target:\n",
    "            return i  # Target found, return index\n",
    "    return -1  # Target not found\n",
    "\n",
    "# Define Binary Search\n",
    "def binary_search(arr, target):\n",
    "    \"\"\"\n",
    "    Perform binary search to find the target in the sorted array.\n",
    "    \"\"\"\n",
    "    left, right = 0, len(arr) - 1\n",
    "\n",
    "    while left <= right:\n",
    "        mid = (left + right) // 2\n",
    "\n",
    "        if arr[mid] == target:\n",
    "            return mid  # Target found, return index\n",
    "        elif arr[mid] < target:\n",
    "            left = mid + 1  # Search in the right half\n",
    "        else:\n",
    "            right = mid - 1  # Search in the left half\n",
    "\n",
    "    return -1  # Target not found\n",
    "\n",
    "# Example array and target\n",
    "arr = [3, 1, 4, 1, 5, 9, 2, 6]\n",
    "target = 5\n",
    "\n",
    "# Linear Search\n",
    "index_linear = linear_search(arr, target)\n",
    "print(f\"Linear Search: Element {target} found at index {index_linear}\" if index_linear != -1 else \"Element not found in Linear Search\")\n",
    "\n",
    "# Binary Search\n",
    "# Sorting the array as Binary Search requires a sorted array\n",
    "sorted_arr = sorted(arr)\n",
    "index_binary = binary_search(sorted_arr, target)\n",
    "print(f\"Binary Search: Element {target} found at index {index_binary}\" if index_binary != -1 else \"Element not found in Binary Search\")\n"
   ]
  }
 ],
 "metadata": {
  "kernelspec": {
   "display_name": ".venv",
   "language": "python",
   "name": "python3"
  },
  "language_info": {
   "codemirror_mode": {
    "name": "ipython",
    "version": 3
   },
   "file_extension": ".py",
   "mimetype": "text/x-python",
   "name": "python",
   "nbconvert_exporter": "python",
   "pygments_lexer": "ipython3",
   "version": "3.12.5"
  }
 },
 "nbformat": 4,
 "nbformat_minor": 2
}
