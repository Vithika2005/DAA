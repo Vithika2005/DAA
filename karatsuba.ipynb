{
 "cells": [
  {
   "cell_type": "code",
   "execution_count": null,
   "metadata": {},
   "outputs": [],
   "source": [
    "import random\n",
    "def karatsuba(x, y):\n",
    "    \"\"\"\n",
    "    Multiplies two large integers using the Karatsuba algorithm.\n",
    "    Args:\n",
    "        x: The first integer.\n",
    "        y: The second integer.\n",
    "    Returns:\n",
    "        The product of x and y.\n",
    "    \"\"\"\n",
    "    if len(str(x)) <= 1 or len(str(y)) <= 1:\n",
    "        return x * y\n",
    "    n = max(len(str(x)), len(str(y)))\n",
    "    n_half = n // 2\n",
    "    a = x // (10 ** n_half)\n",
    "    b = x % (10 ** n_half)\n",
    "    c = y // (10 ** n_half)\n",
    "    d = y % (10 ** n_half)\n",
    "    ac = karatsuba(a, c)\n",
    "    bd = karatsuba(b, d)\n",
    "    ad_plus_bc = karatsuba(a + b, c + d) - ac - bd\n",
    "    return (10 ** (n_half * 2)) * ac + (10 ** n_half) * ad_plus_bc + bd\n",
    "\n",
    "# Test cases\n",
    "for size in [10, 50, 100, 500, 1000]:\n",
    "    x = int(\"\".join(random.choices(\"0123456789\", k=size)))\n",
    "    y = int(\"\".join(random.choices(\"0123456789\", k=size)))\n",
    "    product = karatsuba(x, y)\n",
    "    print(f\"Size: {size}, Product: {product}\")"
   ]
  },
  {
   "cell_type": "code",
   "execution_count": 31,
   "metadata": {},
   "outputs": [
    {
     "name": "stdout",
     "output_type": "stream",
     "text": [
      "Product: 2895899867351014592\n"
     ]
    }
   ],
   "source": [
    "import random\n",
    "\n",
    "def karatsuba(x, y):\n",
    "    \"\"\"\n",
    "    Multiplies two large integers using the Karatsuba algorithm.\n",
    "    Args:\n",
    "        x: The first integer.\n",
    "        y: The second integer.\n",
    "    Returns:\n",
    "        The product of x and y.\n",
    "    \"\"\"\n",
    "    if len(str(x)) <= 1 or len(str(y)) <= 1:\n",
    "        return x * y\n",
    "\n",
    "    n = max(len(str(x)), len(str(y)))\n",
    "    n_half = n // 2\n",
    "    a = x // (10 ** n_half)\n",
    "    b = x % (10 ** n_half)\n",
    "    c = y // (10 ** n_half)\n",
    "    d = y % (10 ** n_half)\n",
    "    ac = karatsuba(a, c)\n",
    "    bd = karatsuba(b, d)\n",
    "    ad_plus_bc = karatsuba(a + b, c + d) - ac - bd\n",
    "    return (10 ** (n_half * 2)) * ac + (10 ** n_half) * ad_plus_bc + bd\n",
    "\n",
    "# Get user input for integers\n",
    "x = int(input(\"Enter the first integer: \"))\n",
    "y = int(input(\"Enter the second integer: \"))\n",
    "\n",
    "# Calculate the product using Karatsuba algorithm\n",
    "product = karatsuba(x, y)\n",
    "\n",
    "print(\"Product:\", product)"
   ]
  },
  {
   "cell_type": "code",
   "execution_count": 1,
   "metadata": {},
   "outputs": [
    {
     "name": "stdout",
     "output_type": "stream",
     "text": [
      "Error: Missing input. Please provide an integer.\n"
     ]
    }
   ],
   "source": [
    "def karatsuba(x, y):\n",
    "    \"\"\"\n",
    "    Multiplies two large integers using the Karatsuba algorithm.\n",
    "    Args:\n",
    "        x: The first integer.\n",
    "        y: The second integer.\n",
    "    Returns:\n",
    "        The product of x and y.\n",
    "    \"\"\"\n",
    "    if len(str(x)) <= 1 or len(str(y)) <= 1:\n",
    "        return x * y\n",
    "\n",
    "    n = max(len(str(x)), len(str(y)))\n",
    "    n_half = n // 2\n",
    "    a = x // (10 ** n_half)\n",
    "    b = x % (10 ** n_half)\n",
    "    c = y // (10 ** n_half)\n",
    "    d = y % (10 ** n_half)\n",
    "    ac = karatsuba(a, c)\n",
    "    bd = karatsuba(b, d)\n",
    "    ad_plus_bc = karatsuba(a + b, c + d) - ac - bd\n",
    "    return (10 ** (n_half * 2)) * ac + (10 ** n_half) * ad_plus_bc + bd\n",
    "\n",
    "def validate_input(input_str):\n",
    "    \"\"\"\n",
    "    Validates the user input.\n",
    "    Args:\n",
    "        input_str: The input string to validate.\n",
    "    Returns:\n",
    "        The valid integer if input is valid, otherwise raises appropriate error.\n",
    "    \"\"\"\n",
    "    # Check if the input is missing\n",
    "    if input_str == \"\":\n",
    "        raise ValueError(\"Error: Missing input. Please provide an integer.\")\n",
    "\n",
    "    # Try converting the input to an integer\n",
    "    try:\n",
    "        num = int(input_str)\n",
    "    except ValueError:\n",
    "        raise ValueError(\"Error: Invalid input. Please enter a valid integer.\")\n",
    "\n",
    "    # Check if the number is negative\n",
    "    if num < 0:\n",
    "        raise ValueError(\"Error: Negative numbers are not allowed.\")\n",
    "\n",
    "    # Return the valid integer\n",
    "    return num\n",
    "\n",
    "# Get user input for integers with validation\n",
    "try:\n",
    "    x_input = input(\"Enter the first integer: \")\n",
    "    y_input = input(\"Enter the second integer: \")\n",
    "\n",
    "    # Validate the inputs\n",
    "    x = validate_input(x_input)\n",
    "    y = validate_input(y_input)\n",
    "\n",
    "    # Check if any input is zero\n",
    "    if x == 0 or y == 0:\n",
    "        print(\"Product: 0\")\n",
    "    else:\n",
    "        # Calculate the product using Karatsuba algorithm\n",
    "        product = karatsuba(x, y)\n",
    "        print(\"Product:\", product)\n",
    "\n",
    "except ValueError as e:\n",
    "    print(e)\n"
   ]
  },
  {
   "cell_type": "code",
   "execution_count": 2,
   "metadata": {},
   "outputs": [
    {
     "name": "stdout",
     "output_type": "stream",
     "text": [
      "An error occurred: name 'sign' is not defined\n"
     ]
    }
   ],
   "source": []
  }
 ],
 "metadata": {
  "kernelspec": {
   "display_name": ".venv",
   "language": "python",
   "name": "python3"
  },
  "language_info": {
   "codemirror_mode": {
    "name": "ipython",
    "version": 3
   },
   "file_extension": ".py",
   "mimetype": "text/x-python",
   "name": "python",
   "nbconvert_exporter": "python",
   "pygments_lexer": "ipython3",
   "version": "3.12.5"
  }
 },
 "nbformat": 4,
 "nbformat_minor": 2
}
